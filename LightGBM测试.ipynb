{
 "cells": [
  {
   "cell_type": "code",
   "execution_count": 8,
   "id": "47225aaf",
   "metadata": {
    "ExecuteTime": {
     "end_time": "2021-08-01T00:03:38.635661Z",
     "start_time": "2021-08-01T00:03:38.622649Z"
    }
   },
   "outputs": [],
   "source": [
    "import lightgbm as lgb\n",
    "import time\n",
    "import pandas as pd"
   ]
  },
  {
   "cell_type": "code",
   "execution_count": 2,
   "id": "bf10ba4a",
   "metadata": {
    "ExecuteTime": {
     "end_time": "2021-07-31T13:43:45.885098Z",
     "start_time": "2021-07-31T13:43:45.877091Z"
    }
   },
   "outputs": [],
   "source": [
    "dtrain = lgb.Dataset('G:\\data\\higgs.csv')"
   ]
  },
  {
   "cell_type": "code",
   "execution_count": 3,
   "id": "1fe0d0e5",
   "metadata": {
    "ExecuteTime": {
     "end_time": "2021-07-31T13:44:37.551525Z",
     "start_time": "2021-07-31T13:43:46.903063Z"
    }
   },
   "outputs": [
    {
     "name": "stdout",
     "output_type": "stream",
     "text": [
      "[LightGBM] [Warning] Unknown parameter: sparse_threshold\n",
      "[LightGBM] [Info] Construct bin mappers from text data time 0.60 seconds\n",
      "[LightGBM] [Warning] Unknown parameter: sparse_threshold\n",
      "[LightGBM] [Warning] Auto-choosing col-wise multi-threading, the overhead of testing was 0.544304 seconds.\n",
      "You can set `force_col_wise=true` to remove the overhead.\n",
      "[LightGBM] [Info] Total Bins 1524\n",
      "[LightGBM] [Info] Number of data points in the train set: 11000000, number of used features: 28\n",
      "[LightGBM] [Info] Start training from score 0.529920\n",
      "cpu version elapse time: 30.620495796203613\n",
      "*****************************\n"
     ]
    }
   ],
   "source": [
    "params = {'max_bin': 63,\n",
    "          'num_leaves': 255,\n",
    "          'learning_rate': 0.1,\n",
    "          'tree_learner': 'serial',\n",
    "          'task': 'train',\n",
    "          'is_training_metric': 'false',\n",
    "          'min_data_in_leaf': 1,\n",
    "          'min_sum_hessian_in_leaf': 100,\n",
    "          'ndcg_eval_at': [1, 3, 5, 10],\n",
    "          'sparse_threshold': 1.0,\n",
    "          'device': 'cpu'\n",
    "          }\n",
    "t0 = time.time()\n",
    "gbm = lgb.train(params, train_set=dtrain, num_boost_round=10,\n",
    "                valid_sets=None, valid_names=None,\n",
    "                fobj=None, feval=None, init_model=None,\n",
    "                feature_name='auto', categorical_feature='auto',\n",
    "                early_stopping_rounds=None, evals_result=None,\n",
    "                verbose_eval=True,\n",
    "                keep_training_booster=False, callbacks=None)\n",
    "t1 = time.time()\n",
    "print('cpu version elapse time: {}'.format(t1-t0))\n",
    "print(\"*****************************\")\n",
    "time.sleep(20)"
   ]
  },
  {
   "cell_type": "code",
   "execution_count": 4,
   "id": "d9bffb76",
   "metadata": {
    "ExecuteTime": {
     "end_time": "2021-07-31T13:45:07.020041Z",
     "start_time": "2021-07-31T13:44:37.553531Z"
    }
   },
   "outputs": [
    {
     "name": "stdout",
     "output_type": "stream",
     "text": [
      "[LightGBM] [Warning] Unknown parameter: sparse_threshold\n",
      "[LightGBM] [Warning] Unknown parameter: sparse_threshold\n",
      "[LightGBM] [Warning] Unknown parameter: sparse_threshold\n",
      "[LightGBM] [Info] This is the GPU trainer!!\n",
      "[LightGBM] [Info] Total Bins 1524\n",
      "[LightGBM] [Info] Number of data points in the train set: 11000000, number of used features: 28\n",
      "[LightGBM] [Info] Using GPU Device: GeForce RTX 2070, Vendor: NVIDIA Corporation\n",
      "[LightGBM] [Info] Compiling OpenCL Kernel with 64 bins...\n",
      "[LightGBM] [Info] GPU programs have been built\n",
      "[LightGBM] [Info] Size of histogram bin entry: 8\n",
      "[LightGBM] [Info] 28 dense feature groups (293.73 MB) transferred to GPU in 0.220803 secs. 0 sparse feature groups\n",
      "[LightGBM] [Info] Start training from score 0.529920\n",
      "gpu version elapse time: 9.43910551071167\n",
      "*****************************\n"
     ]
    }
   ],
   "source": [
    "params = {'max_bin': 63,\n",
    "          'num_leaves': 255,\n",
    "          'learning_rate': 0.1,\n",
    "          'tree_learner': 'serial',\n",
    "          'task': 'train',\n",
    "          'is_training_metric': 'false',\n",
    "          'min_data_in_leaf': 1,\n",
    "          'min_sum_hessian_in_leaf': 100,\n",
    "          'ndcg_eval_at': [1, 3, 5, 10],\n",
    "          'sparse_threshold': 1.0,\n",
    "          'device': 'gpu',\n",
    "          'gpu_platform_id': 1,\n",
    "          'gpu_device_id': 0\n",
    "}\n",
    "\n",
    "t0 = time.time()\n",
    "gbm = lgb.train(params, train_set=dtrain, num_boost_round=10,\n",
    "                valid_sets=None, valid_names=None,\n",
    "                fobj=None, feval=None, init_model=None,\n",
    "                feature_name='auto', categorical_feature='auto',\n",
    "                early_stopping_rounds=None, evals_result=None,\n",
    "                verbose_eval=True,\n",
    "                keep_training_booster=False, callbacks=None)\n",
    "t1 = time.time()\n",
    "\n",
    "print('gpu version elapse time: {}'.format(t1-t0))\n",
    "print(\"*****************************\")\n",
    "time.sleep(20)"
   ]
  },
  {
   "cell_type": "code",
   "execution_count": 5,
   "id": "7f56f486",
   "metadata": {
    "ExecuteTime": {
     "end_time": "2021-07-31T13:45:11.772366Z",
     "start_time": "2021-07-31T13:45:07.022044Z"
    }
   },
   "outputs": [
    {
     "name": "stdout",
     "output_type": "stream",
     "text": [
      "[LightGBM] [Warning] Unknown parameter: sparse_threshold\n",
      "[LightGBM] [Warning] Unknown parameter: sparse_threshold\n",
      "[LightGBM] [Warning] Unknown parameter: sparse_threshold\n",
      "[LightGBM] [Info] This is the GPU trainer!!\n",
      "[LightGBM] [Info] Total Bins 1524\n",
      "[LightGBM] [Info] Number of data points in the train set: 11000000, number of used features: 28\n",
      "[LightGBM] [Info] Using GPU Device: GeForce RTX 2070, Vendor: NVIDIA Corporation\n",
      "[LightGBM] [Info] Compiling OpenCL Kernel with 64 bins...\n",
      "[LightGBM] [Info] GPU programs have been built\n",
      "[LightGBM] [Info] Size of histogram bin entry: 8\n",
      "[LightGBM] [Info] 28 dense feature groups (293.73 MB) transferred to GPU in 0.229395 secs. 0 sparse feature groups\n",
      "[LightGBM] [Info] Start training from score 0.529920\n",
      "gpu version elapse time: 4.738312005996704\n"
     ]
    }
   ],
   "source": [
    "params = {'max_bin': 63,\n",
    "          'num_leaves': 255,\n",
    "          'learning_rate': 0.1,\n",
    "          'tree_learner': 'serial',\n",
    "          'task': 'train',\n",
    "          'is_training_metric': 'false',\n",
    "          'min_data_in_leaf': 1,\n",
    "          'min_sum_hessian_in_leaf': 100,\n",
    "          'ndcg_eval_at': [1, 3, 5, 10],\n",
    "          'sparse_threshold': 1.0,\n",
    "          'device': 'gpu'\n",
    "          }\n",
    "\n",
    "\n",
    "t0 = time.time()\n",
    "gbm = lgb.train(params, train_set=dtrain, num_boost_round=10,\n",
    "                valid_sets=None, valid_names=None,\n",
    "                fobj=None, feval=None, init_model=None,\n",
    "                feature_name='auto', categorical_feature='auto',\n",
    "                early_stopping_rounds=None, evals_result=None,\n",
    "                verbose_eval=True,\n",
    "                keep_training_booster=False, callbacks=None)\n",
    "t1 = time.time()\n",
    "print('gpu version elapse time: {}'.format(t1-t0))"
   ]
  },
  {
   "cell_type": "code",
   "execution_count": null,
   "id": "ca327f79",
   "metadata": {},
   "outputs": [],
   "source": []
  }
 ],
 "metadata": {
  "hide_input": false,
  "kernelspec": {
   "display_name": "Python [conda env:ml]",
   "language": "python",
   "name": "conda-env-ml-py"
  },
  "language_info": {
   "codemirror_mode": {
    "name": "ipython",
    "version": 3
   },
   "file_extension": ".py",
   "mimetype": "text/x-python",
   "name": "python",
   "nbconvert_exporter": "python",
   "pygments_lexer": "ipython3",
   "version": "3.7.10"
  }
 },
 "nbformat": 4,
 "nbformat_minor": 5
}
